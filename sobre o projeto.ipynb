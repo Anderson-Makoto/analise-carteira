{
 "cells": [
  {
   "cell_type": "markdown",
   "id": "4ac37c53-16ed-4fa6-85a7-1c40bf12a6f0",
   "metadata": {},
   "source": [
    "objetivo: desenvolver um modelo para recomendar uma carteira de investimentos baseado no perfil do investidor\n",
    "\n",
    "avaliação do modelo: rentabiliadde superior às referencias no mesmo periodo de tempo com uma taxa de superioridade de x%.\n",
    "\n",
    "referencias de avaliação: ibovespa, di, e ipca, media de rentabilidade de carteiras aleatorias (500000 carteiras)."
   ]
  }
 ],
 "metadata": {
  "kernelspec": {
   "display_name": "Python 3 (ipykernel)",
   "language": "python",
   "name": "python3"
  },
  "language_info": {
   "codemirror_mode": {
    "name": "ipython",
    "version": 3
   },
   "file_extension": ".py",
   "mimetype": "text/x-python",
   "name": "python",
   "nbconvert_exporter": "python",
   "pygments_lexer": "ipython3",
   "version": "3.9.18"
  }
 },
 "nbformat": 4,
 "nbformat_minor": 5
}

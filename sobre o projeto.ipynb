{
 "cells": [
  {
   "cell_type": "markdown",
   "id": "4ac37c53-16ed-4fa6-85a7-1c40bf12a6f0",
   "metadata": {},
   "source": [
    "objetivo: desenvolver um modelo para recomendar uma carteira de investimentos baseado no perfil do investidor\n",
    "\n",
    "avaliação do modelo: rentabiliadde superior às referencias no mesmo periodo de tempo com uma taxa de superioridade de x%.\n",
    "\n",
    "referencias de avaliação: ibovespa, di, e ipca, media de rentabilidade de carteiras aleatorias (500000 carteiras).\n",
    "\n",
    "divisão de perfis de invetimento:\n",
    "- conservador: 95% em renda fixa e 5% em variável\n",
    "- moderado: 80% em renda fixa e 20% em variável\n",
    "- arrojado: 60% em renda fixa e 40% em variável\n",
    "\n",
    "[referencia de escolha de divisão de perfis](https://content.btgpactual.com/blog/investimentos/como-diversificar-investimentos-em-renda-fixa-e-variavel)"
   ]
  }
 ],
 "metadata": {
  "kernelspec": {
   "display_name": "Python 3 (ipykernel)",
   "language": "python",
   "name": "python3"
  },
  "language_info": {
   "codemirror_mode": {
    "name": "ipython",
    "version": 3
   },
   "file_extension": ".py",
   "mimetype": "text/x-python",
   "name": "python",
   "nbconvert_exporter": "python",
   "pygments_lexer": "ipython3",
   "version": "3.9.18"
  }
 },
 "nbformat": 4,
 "nbformat_minor": 5
}

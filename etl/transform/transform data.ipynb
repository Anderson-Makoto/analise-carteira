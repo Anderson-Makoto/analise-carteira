{
 "cells": [
  {
   "cell_type": "code",
   "execution_count": 1,
   "id": "428d6f34-0e4a-4653-b953-196bf7d03670",
   "metadata": {},
   "outputs": [],
   "source": [
    "from pyhive import hive;"
   ]
  },
  {
   "cell_type": "code",
   "execution_count": 3,
   "id": "4bc2343f-d20b-4d93-9e00-b2b0b85ec316",
   "metadata": {},
   "outputs": [],
   "source": [
    "conn = hive.Connection(host='192.168.68.121', port='10000', username='hive');\n",
    "\n",
    "cur = conn.cursor();\n",
    "\n",
    "cur.execute('create database teste');"
   ]
  }
 ],
 "metadata": {
  "kernelspec": {
   "display_name": "Python 3 (ipykernel)",
   "language": "python",
   "name": "python3"
  },
  "language_info": {
   "codemirror_mode": {
    "name": "ipython",
    "version": 3
   },
   "file_extension": ".py",
   "mimetype": "text/x-python",
   "name": "python",
   "nbconvert_exporter": "python",
   "pygments_lexer": "ipython3",
   "version": "3.9.18"
  }
 },
 "nbformat": 4,
 "nbformat_minor": 5
}

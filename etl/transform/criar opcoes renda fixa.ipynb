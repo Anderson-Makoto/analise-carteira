{
 "cells": [
  {
   "cell_type": "code",
   "execution_count": 1,
   "id": "f3dd6e99-8eca-4dfb-ad24-29159e4cd5e5",
   "metadata": {},
   "outputs": [],
   "source": [
    "import numpy as np;\n",
    "import pandas as pd;\n",
    "\n",
    "profitability_options_list_cdi_based = [1.18, 1.15, 1.1, 1.08, 1.05, 1];\n",
    "profitability_options_list_ipca_based = [0.06];"
   ]
  },
  {
   "cell_type": "code",
   "execution_count": null,
   "id": "eff0de9b-1dd6-4038-861c-1890821377e1",
   "metadata": {},
   "outputs": [],
   "source": [
    "def "
   ]
  }
 ],
 "metadata": {
  "kernelspec": {
   "display_name": "Python 3 (ipykernel)",
   "language": "python",
   "name": "python3"
  },
  "language_info": {
   "codemirror_mode": {
    "name": "ipython",
    "version": 3
   },
   "file_extension": ".py",
   "mimetype": "text/x-python",
   "name": "python",
   "nbconvert_exporter": "python",
   "pygments_lexer": "ipython3",
   "version": "3.9.18"
  }
 },
 "nbformat": 4,
 "nbformat_minor": 5
}

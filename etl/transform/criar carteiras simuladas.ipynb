{
 "cells": [
  {
   "cell_type": "code",
   "execution_count": 3,
   "id": "8630026e-7a78-4626-b61c-b3cb8c041c87",
   "metadata": {},
   "outputs": [],
   "source": [
    "import pandas as pd;\n",
    "import numpy as np;\n",
    "import datetime;\n",
    "\n",
    "n_clients = 500000;\n",
    "capital_for_each_client = 10000;\n",
    "start_time = '2015-01-01';\n",
    "end_time = datetime.datetime.today();\n",
    "separate_by_sector=False;\n",
    "client_profile_options = {'conservador': 0.95, 'moderado': 0.8, 'arrojado': 0.6};\n",
    "client_profile = 'conservador';\n",
    "profitability_options_list_cdi_based = [1.18, 1.15, 1.1, 1.08, 1.05, 1];\n",
    "profitability_options_list_ipca_based = [0.06];"
   ]
  },
  {
   "cell_type": "code",
   "execution_count": null,
   "id": "10b969c6-1463-4eea-99c9-d0d0ff4e310e",
   "metadata": {},
   "outputs": [],
   "source": [
    "def create_fixed_annuity():\n",
    "    if client_profile == 'conservador'"
   ]
  },
  {
   "cell_type": "code",
   "execution_count": null,
   "id": "d0584b0a-89e3-48c9-b94f-1ccedf36a238",
   "metadata": {},
   "outputs": [],
   "source": [
    "def create_portfolio_for_client():\n",
    "    fixed_annuity_capital = int(client_profile[client_profile] * capital_for_each_client);\n",
    "    "
   ]
  },
  {
   "cell_type": "code",
   "execution_count": 4,
   "id": "05e7c25f-bddc-457e-b926-b73766480bf3",
   "metadata": {},
   "outputs": [],
   "source": [
    "def main():\n",
    "    None;"
   ]
  }
 ],
 "metadata": {
  "kernelspec": {
   "display_name": "Python 3 (ipykernel)",
   "language": "python",
   "name": "python3"
  },
  "language_info": {
   "codemirror_mode": {
    "name": "ipython",
    "version": 3
   },
   "file_extension": ".py",
   "mimetype": "text/x-python",
   "name": "python",
   "nbconvert_exporter": "python",
   "pygments_lexer": "ipython3",
   "version": "3.9.18"
  }
 },
 "nbformat": 4,
 "nbformat_minor": 5
}

{
 "cells": [
  {
   "cell_type": "code",
   "execution_count": 1,
   "id": "ede11f9c-f5d6-40bf-bebc-578f2ed0b39b",
   "metadata": {},
   "outputs": [],
   "source": [
    "import requests;\n",
    "from bs4 import BeautifulSoup as bs;\n",
    "import pandas as pd;\n",
    "import datetime;\n",
    "from dateutil.relativedelta import relativedelta;\n",
    "import time;\n",
    "from unicodedata import normalize;\n",
    "from waybackpy import WaybackMachineCDXServerAPI;\n",
    "\n",
    "datetime_format = '%Y%m%d%H%M%S';\n",
    "month_format = '%Y%m';"
   ]
  },
  {
   "cell_type": "code",
   "execution_count": 2,
   "id": "de0cdcef-ef42-4f6c-8d2b-5c4db24aaf60",
   "metadata": {},
   "outputs": [],
   "source": [
    "def request_data(url):\n",
    "    response = requests.get(url);\n",
    "    content = response.content;\n",
    "    site = bs(content, 'html.parser');\n",
    "    return site;"
   ]
  },
  {
   "cell_type": "code",
   "execution_count": 3,
   "id": "5cb16af5-6a0f-42d7-b48f-9a85ab7852f3",
   "metadata": {},
   "outputs": [],
   "source": [
    "def is_valid_url(html):\n",
    "    input_tag = html.find('input', attrs={'class': 'botao', 'type': 'image', 'value': 'Exibir'});\n",
    "    print(input_tag)\n",
    "    return input_tag != None;"
   ]
  },
  {
   "cell_type": "code",
   "execution_count": 4,
   "id": "42a41e07-f190-456f-abfd-79957931875f",
   "metadata": {},
   "outputs": [],
   "source": [
    "def get_datetime_urls(end_year):\n",
    "    url = 'http://www.fundamentus.com.br/resultado.php';\n",
    "    user_agent = \"Mozilla/5.0 (Windows NT 5.1; rv:40.0) Gecko/20100101 Firefox/40.0\"\n",
    "    cdx = WaybackMachineCDXServerAPI(url, user_agent, start_timestamp=2008, end_timestamp=end_year);\n",
    "    return [url.archive_url for url in cdx.snapshots()];"
   ]
  },
  {
   "cell_type": "code",
   "execution_count": 5,
   "id": "46a3350b-aabd-4229-ae04-fcf84afee006",
   "metadata": {},
   "outputs": [],
   "source": [
    "def scrape_content(html, datetime_scraped):\n",
    "    tables = html.find_all('table');\n",
    "    pd.read_html(str(tables))[0].to_csv('indicadores_fundamentalista_' + datetime_scraped + '.csv');"
   ]
  },
  {
   "cell_type": "code",
   "execution_count": 6,
   "id": "5e98dc33-f441-4429-9518-e2bd3586dc33",
   "metadata": {},
   "outputs": [],
   "source": [
    "def get_current_month_urls(urls_list, date_month_format):\n",
    "    return list(filter(lambda url: '/web/' + date_month_format in url, urls_list));"
   ]
  },
  {
   "cell_type": "code",
   "execution_count": 7,
   "id": "2975d73c-315f-46a0-8581-ffc65b376705",
   "metadata": {},
   "outputs": [],
   "source": [
    "def main():\n",
    "    end_datetime = datetime.date.today();\n",
    "    urls_list = get_datetime_urls(end_datetime.year);\n",
    "    \n",
    "    for year in range(2008, end_datetime.year + 1):\n",
    "        for month in range(1, 13):\n",
    "            print(f'mes atual: {year}/{month}');\n",
    "            \n",
    "            current_date = datetime.date(year, month, 1);\n",
    "            current_urls = get_current_month_urls(urls_list, current_date.strftime(month_format));\n",
    "\n",
    "            for url, pos in zip(current_urls, range(0, len(current_urls))):\n",
    "                html_content = request_data(url);\n",
    "                time.sleep(10);\n",
    "                \n",
    "                if is_valid_url(html_content):\n",
    "                    start_index = url.find('web/') + 4;                    \n",
    "                    print(url[start_index: start_index + 14])\n",
    "                    scrape_content(html_content, url[start_index: start_index + 14]);\n",
    "                    break;\n",
    "                    \n",
    "                print(f'{pos}/{len(urls_list)}');"
   ]
  },
  {
   "cell_type": "code",
   "execution_count": 8,
   "id": "7c4ee8f8-7636-4367-b702-9d2e68b7d925",
   "metadata": {},
   "outputs": [
    {
     "name": "stdout",
     "output_type": "stream",
     "text": [
      "mes atual: 2024/1\n",
      "<input class=\"botao\" src=\"/web/20240105133249im_/https://www.fundamentus.com.br/img/bt_exibir.jpg\" type=\"image\" value=\"Exibir\"/>\n",
      "20240105133249\n"
     ]
    },
    {
     "name": "stderr",
     "output_type": "stream",
     "text": [
      "C:\\Users\\Anderson Makoto\\AppData\\Local\\Temp\\ipykernel_22316\\1939557455.py:3: FutureWarning: Passing literal html to 'read_html' is deprecated and will be removed in a future version. To read from a literal string, wrap it in a 'StringIO' object.\n",
      "  pd.read_html(str(tables))[0].to_csv('indicadores_fundamentalista_' + datetime_scraped + '.csv');\n"
     ]
    },
    {
     "name": "stdout",
     "output_type": "stream",
     "text": [
      "mes atual: 2024/2\n",
      "<input class=\"botao\" src=\"/web/20240203170650im_/https://www.fundamentus.com.br/img/bt_exibir.jpg\" type=\"image\" value=\"Exibir\"/>\n",
      "20240203170650\n"
     ]
    },
    {
     "name": "stderr",
     "output_type": "stream",
     "text": [
      "C:\\Users\\Anderson Makoto\\AppData\\Local\\Temp\\ipykernel_22316\\1939557455.py:3: FutureWarning: Passing literal html to 'read_html' is deprecated and will be removed in a future version. To read from a literal string, wrap it in a 'StringIO' object.\n",
      "  pd.read_html(str(tables))[0].to_csv('indicadores_fundamentalista_' + datetime_scraped + '.csv');\n"
     ]
    },
    {
     "name": "stdout",
     "output_type": "stream",
     "text": [
      "mes atual: 2024/3\n",
      "<input class=\"botao\" src=\"/web/20240329212714im_/https://www.fundamentus.com.br/img/bt_exibir.jpg\" type=\"image\" value=\"Exibir\"/>\n",
      "20240329212714\n"
     ]
    },
    {
     "name": "stderr",
     "output_type": "stream",
     "text": [
      "C:\\Users\\Anderson Makoto\\AppData\\Local\\Temp\\ipykernel_22316\\1939557455.py:3: FutureWarning: Passing literal html to 'read_html' is deprecated and will be removed in a future version. To read from a literal string, wrap it in a 'StringIO' object.\n",
      "  pd.read_html(str(tables))[0].to_csv('indicadores_fundamentalista_' + datetime_scraped + '.csv');\n"
     ]
    },
    {
     "name": "stdout",
     "output_type": "stream",
     "text": [
      "mes atual: 2024/4\n",
      "<input class=\"botao\" src=\"/web/20240419054349im_/https://www.fundamentus.com.br/img/bt_exibir.jpg\" type=\"image\" value=\"Exibir\"/>\n",
      "20240414084011\n"
     ]
    },
    {
     "name": "stderr",
     "output_type": "stream",
     "text": [
      "C:\\Users\\Anderson Makoto\\AppData\\Local\\Temp\\ipykernel_22316\\1939557455.py:3: FutureWarning: Passing literal html to 'read_html' is deprecated and will be removed in a future version. To read from a literal string, wrap it in a 'StringIO' object.\n",
      "  pd.read_html(str(tables))[0].to_csv('indicadores_fundamentalista_' + datetime_scraped + '.csv');\n"
     ]
    },
    {
     "name": "stdout",
     "output_type": "stream",
     "text": [
      "mes atual: 2024/5\n",
      "<input class=\"botao\" src=\"/web/20240430173520im_/https://www.fundamentus.com.br/img/bt_exibir.jpg\" type=\"image\" value=\"Exibir\"/>\n",
      "20240510154111\n"
     ]
    },
    {
     "name": "stderr",
     "output_type": "stream",
     "text": [
      "C:\\Users\\Anderson Makoto\\AppData\\Local\\Temp\\ipykernel_22316\\1939557455.py:3: FutureWarning: Passing literal html to 'read_html' is deprecated and will be removed in a future version. To read from a literal string, wrap it in a 'StringIO' object.\n",
      "  pd.read_html(str(tables))[0].to_csv('indicadores_fundamentalista_' + datetime_scraped + '.csv');\n"
     ]
    },
    {
     "name": "stdout",
     "output_type": "stream",
     "text": [
      "mes atual: 2024/6\n",
      "<input class=\"botao\" src=\"/web/20240614184833im_/https://fundamentus.com.br/img/bt_exibir.jpg\" type=\"image\" value=\"Exibir\"/>\n",
      "20240614184833\n"
     ]
    },
    {
     "name": "stderr",
     "output_type": "stream",
     "text": [
      "C:\\Users\\Anderson Makoto\\AppData\\Local\\Temp\\ipykernel_22316\\1939557455.py:3: FutureWarning: Passing literal html to 'read_html' is deprecated and will be removed in a future version. To read from a literal string, wrap it in a 'StringIO' object.\n",
      "  pd.read_html(str(tables))[0].to_csv('indicadores_fundamentalista_' + datetime_scraped + '.csv');\n"
     ]
    },
    {
     "name": "stdout",
     "output_type": "stream",
     "text": [
      "mes atual: 2024/7\n",
      "mes atual: 2024/8\n",
      "<input class=\"botao\" src=\"/web/20240810152421im_/https://fundamentus.com.br/img/bt_exibir.jpg\" type=\"image\" value=\"Exibir\"/>\n",
      "20240810152421\n"
     ]
    },
    {
     "name": "stderr",
     "output_type": "stream",
     "text": [
      "C:\\Users\\Anderson Makoto\\AppData\\Local\\Temp\\ipykernel_22316\\1939557455.py:3: FutureWarning: Passing literal html to 'read_html' is deprecated and will be removed in a future version. To read from a literal string, wrap it in a 'StringIO' object.\n",
      "  pd.read_html(str(tables))[0].to_csv('indicadores_fundamentalista_' + datetime_scraped + '.csv');\n"
     ]
    },
    {
     "name": "stdout",
     "output_type": "stream",
     "text": [
      "mes atual: 2024/9\n",
      "mes atual: 2024/10\n",
      "mes atual: 2024/11\n",
      "mes atual: 2024/12\n"
     ]
    }
   ],
   "source": [
    "main()"
   ]
  }
 ],
 "metadata": {
  "kernelspec": {
   "display_name": "Python 3 (ipykernel)",
   "language": "python",
   "name": "python3"
  },
  "language_info": {
   "codemirror_mode": {
    "name": "ipython",
    "version": 3
   },
   "file_extension": ".py",
   "mimetype": "text/x-python",
   "name": "python",
   "nbconvert_exporter": "python",
   "pygments_lexer": "ipython3",
   "version": "3.9.18"
  }
 },
 "nbformat": 4,
 "nbformat_minor": 5
}

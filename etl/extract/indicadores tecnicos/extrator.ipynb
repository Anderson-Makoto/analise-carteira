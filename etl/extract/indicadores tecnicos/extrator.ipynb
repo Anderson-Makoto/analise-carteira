{
 "cells": [
  {
   "cell_type": "code",
   "execution_count": 1,
   "id": "f9142360-00ed-4a48-aa00-27ccc4e7f2d7",
   "metadata": {},
   "outputs": [],
   "source": [
    "import yfinance as yf;\n",
    "import pandas as pd;"
   ]
  },
  {
   "cell_type": "code",
   "execution_count": 2,
   "id": "c4029db6-686f-4730-b1c6-b11d29125b30",
   "metadata": {},
   "outputs": [],
   "source": [
    "def get_all_tickers_b3():\n",
    "    b3_tickers_list = list(pd.read_csv('acoes-listadas-b3.csv').Ticker);\n",
    "    b3_tickers_list = [ticker + '.SA' for ticker in b3_tickers_list];\n",
    "    start_date = '2008-01-01';\n",
    "    b3_df = yf.download(b3_tickers_list, start=start_date);\n",
    "    return b3_df;"
   ]
  },
  {
   "cell_type": "code",
   "execution_count": 3,
   "id": "aa95e422-b40b-4ffb-a4af-40b4982dd46b",
   "metadata": {},
   "outputs": [],
   "source": [
    "def save(b3_df):\n",
    "    columns = set([item[0] for item in b3_df.columns]);\n",
    "    for column in columns:\n",
    "        b3_df[column].to_csv(column + '_b3.csv');    "
   ]
  },
  {
   "cell_type": "code",
   "execution_count": 4,
   "id": "955f545c-f0cd-40f7-9333-1516133e2223",
   "metadata": {},
   "outputs": [],
   "source": [
    "def main():\n",
    "    b3_df = get_all_tickers_b3();\n",
    "    save(b3_df);"
   ]
  },
  {
   "cell_type": "code",
   "execution_count": 5,
   "id": "95ff22e1-a20c-423d-bebb-24bc06edfdee",
   "metadata": {},
   "outputs": [
    {
     "name": "stderr",
     "output_type": "stream",
     "text": [
      "[*********************100%***********************]  402 of 402 completed\n",
      "\n",
      "4 Failed downloads:\n",
      "['AMAR11.SA', 'AZEV11.SA', 'BIOM11.SA', 'PINE11.SA']: YFTzMissingError('$%ticker%: possibly delisted; no timezone found')\n"
     ]
    }
   ],
   "source": [
    "main();"
   ]
  }
 ],
 "metadata": {
  "kernelspec": {
   "display_name": "Python 3 (ipykernel)",
   "language": "python",
   "name": "python3"
  },
  "language_info": {
   "codemirror_mode": {
    "name": "ipython",
    "version": 3
   },
   "file_extension": ".py",
   "mimetype": "text/x-python",
   "name": "python",
   "nbconvert_exporter": "python",
   "pygments_lexer": "ipython3",
   "version": "3.9.18"
  }
 },
 "nbformat": 4,
 "nbformat_minor": 5
}

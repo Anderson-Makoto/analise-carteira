{
 "cells": [
  {
   "cell_type": "code",
   "execution_count": 1,
   "id": "44cd69e6-7338-48aa-9aa1-eb4dbc44680e",
   "metadata": {},
   "outputs": [],
   "source": [
    "from bcb import sgs;\n",
    "import pandas as pd;"
   ]
  },
  {
   "cell_type": "code",
   "execution_count": 2,
   "id": "c27303c5-3794-4239-8f2b-48be87a6f966",
   "metadata": {},
   "outputs": [],
   "source": [
    "def get_ipca(start_period):\n",
    "    df = sgs.get({'IPCA': 433}, start=start_period);\n",
    "    return df;"
   ]
  },
  {
   "cell_type": "code",
   "execution_count": 3,
   "id": "e1a9b988-a761-414c-9ec6-db3925f4ac43",
   "metadata": {},
   "outputs": [],
   "source": [
    "def get_cdi(start_period):\n",
    "    df = sgs.get({'CDI': 4391}, start=start_period);\n",
    "    return df;"
   ]
  },
  {
   "cell_type": "code",
   "execution_count": 4,
   "id": "0bec5b38-a791-492c-9c84-995792da3010",
   "metadata": {},
   "outputs": [],
   "source": [
    "def get_selic(start_period):\n",
    "    df = sgs.get({'SELIC': 4390}, start=start_period);\n",
    "    return df;"
   ]
  },
  {
   "cell_type": "code",
   "execution_count": 5,
   "id": "8e7645ce-32fd-4e16-a847-2e489214bc56",
   "metadata": {},
   "outputs": [],
   "source": [
    "def make_file(ipca_df, selic_df, cdi_df):\n",
    "    pd.concat([ipca_df, selic_df, cdi_df], axis=1).to_csv('renda_fixa.csv');"
   ]
  },
  {
   "cell_type": "code",
   "execution_count": 6,
   "id": "b2c2be4e-4030-45b4-969b-4fe76a24283b",
   "metadata": {},
   "outputs": [],
   "source": [
    "def main():\n",
    "    start_period = '2000-01-01';\n",
    "    ipca_df = get_ipca(start_period);\n",
    "    cdi_df = get_cdi(start_period);\n",
    "    selic_df = get_selic(start_period);\n",
    "\n",
    "    make_file(ipca_df, selic_df, cdi_df);"
   ]
  },
  {
   "cell_type": "code",
   "execution_count": 7,
   "id": "c78a3321-89a0-425a-bbb0-f9f2dc73fe79",
   "metadata": {},
   "outputs": [],
   "source": [
    "main();"
   ]
  }
 ],
 "metadata": {
  "kernelspec": {
   "display_name": "Python 3 (ipykernel)",
   "language": "python",
   "name": "python3"
  },
  "language_info": {
   "codemirror_mode": {
    "name": "ipython",
    "version": 3
   },
   "file_extension": ".py",
   "mimetype": "text/x-python",
   "name": "python",
   "nbconvert_exporter": "python",
   "pygments_lexer": "ipython3",
   "version": "3.9.18"
  }
 },
 "nbformat": 4,
 "nbformat_minor": 5
}
